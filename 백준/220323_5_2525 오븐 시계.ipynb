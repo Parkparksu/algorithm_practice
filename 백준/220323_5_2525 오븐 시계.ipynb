{
 "cells": [
  {
   "cell_type": "markdown",
   "metadata": {},
   "source": [
    "# 2022년 3월 23일 수요일\n",
    "\n",
    "#### 문제 - 백준 알고리즘 2525 오븐 시계\n",
    "#### 환경 - python\n",
    "(https://www.acmicpc.net/problem/2525)"
   ]
  },
  {
   "cell_type": "markdown",
   "metadata": {},
   "source": [
    "##### 제출코드"
   ]
  },
  {
   "cell_type": "markdown",
   "metadata": {},
   "source": [
    "###### 하드코딩"
   ]
  },
  {
   "cell_type": "code",
   "execution_count": null,
   "metadata": {},
   "outputs": [],
   "source": [
    "a, b= map(int, input().split())\n",
    "c = int(input())\n",
    "\n",
    "h = c//60\n",
    "m = c%60\n",
    "\n",
    "if b + m >= 60:\n",
    "    if a + h > 23 :\n",
    "        print(a+h-23, b+m-60)\n",
    "    elif a + h == 23:\n",
    "        print(0, b+m-60)\n",
    "    else:\n",
    "        print(a+h+1, b+m-60)\n",
    "else:\n",
    "    if a + h > 24 :\n",
    "        print(a+h-24, b+m)\n",
    "    elif a + h == 24:\n",
    "        print(0, b+m)\n",
    "    else:\n",
    "        print(a+h, b+m)"
   ]
  },
  {
   "cell_type": "markdown",
   "metadata": {},
   "source": [
    "2884번 알람시계와 반대로 시간 덧셈이다.\n",
    "\n",
    "완전한 하드코딩.\n",
    "\n",
    "반성반성 좀더 생각해보도록 합시다"
   ]
  },
  {
   "cell_type": "markdown",
   "metadata": {},
   "source": [
    "#### 좀 더 좋은 코드"
   ]
  },
  {
   "cell_type": "code",
   "execution_count": null,
   "metadata": {},
   "outputs": [],
   "source": [
    "A, B = map(int, input().split())\n",
    "C = int(input()) \n",
    "\n",
    "A += C // 60\n",
    "B += C % 60\n",
    "\n",
    "if B >= 60:\n",
    "    A += 1\n",
    "    B -= 60\n",
    "if A >= 24:\n",
    "    A -= 24\n",
    "\n",
    "print(A,B)"
   ]
  }
 ],
 "metadata": {
  "interpreter": {
   "hash": "d373a6adc26a229c2c7b2016ce264c6636cd7db4cb097b04765bf225c02b830d"
  },
  "kernelspec": {
   "display_name": "Python 3.8.10 64-bit",
   "language": "python",
   "name": "python3"
  },
  "language_info": {
   "codemirror_mode": {
    "name": "ipython",
    "version": 3
   },
   "file_extension": ".py",
   "mimetype": "text/x-python",
   "name": "python",
   "nbconvert_exporter": "python",
   "pygments_lexer": "ipython3",
   "version": "3.7.7"
  },
  "orig_nbformat": 4
 },
 "nbformat": 4,
 "nbformat_minor": 2
}
