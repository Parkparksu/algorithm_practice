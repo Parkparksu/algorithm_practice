{
 "cells": [
  {
   "cell_type": "markdown",
   "metadata": {},
   "source": [
    "# 2022년 3월 23일 수요일\n",
    "\n",
    "#### 문제 - 백준 알고리즘 2884  알람 시계\n",
    "#### 환경 - python\n",
    "(https://www.acmicpc.net/problem/2884)"
   ]
  },
  {
   "cell_type": "markdown",
   "metadata": {},
   "source": [
    "##### 제출코드"
   ]
  },
  {
   "cell_type": "markdown",
   "metadata": {},
   "source": [
    "###### 오답"
   ]
  },
  {
   "cell_type": "code",
   "execution_count": null,
   "metadata": {},
   "outputs": [],
   "source": [
    "H, M = map(int, input().split())\n",
    "\n",
    "if M < 45 :\n",
    "    print((H - 1), (M+15))\n",
    "elif M >= 45 :\n",
    "    print(H, M-45)"
   ]
  },
  {
   "cell_type": "markdown",
   "metadata": {},
   "source": [
    "매번 n진수 문제 풀때마다 실수 하는 부분이 비슷하여 정리한다.\n",
    "\n",
    "n 진수의 자리가 바뀔 때 주의하도록 하자.\n",
    " \n",
    "위의 코드에서는 0시 30분일 경우 -1 30 을 출력한다."
   ]
  },
  {
   "cell_type": "markdown",
   "metadata": {},
   "source": [
    "#### 따라서"
   ]
  },
  {
   "cell_type": "code",
   "execution_count": null,
   "metadata": {},
   "outputs": [],
   "source": [
    "H, M = map(int, input().split())\n",
    "\n",
    "if H == 0 :\n",
    "    if M < 45 :\n",
    "        print((23), (M+15))\n",
    "    elif M >= 45 :\n",
    "        print(H, M-45)\n",
    "else :\n",
    "    if M < 45 :\n",
    "        print(H-1, (M+15))\n",
    "    elif M >= 45 :\n",
    "        print(H, M-45)"
   ]
  },
  {
   "cell_type": "markdown",
   "metadata": {},
   "source": [
    "##### 좀더 숏코드"
   ]
  },
  {
   "cell_type": "code",
   "execution_count": null,
   "metadata": {},
   "outputs": [],
   "source": [
    "H, M = map(int, input().split())\n",
    "\n",
    "if M < 45 : \n",
    "    if H == 0 :\t\n",
    "        H = 23\n",
    "        M += 60\n",
    "    else :\n",
    "        H -= 1\t\n",
    "        M += 60\n",
    "        \n",
    "print(H, M-45)"
   ]
  }
 ],
 "metadata": {
  "interpreter": {
   "hash": "d373a6adc26a229c2c7b2016ce264c6636cd7db4cb097b04765bf225c02b830d"
  },
  "kernelspec": {
   "display_name": "Python 3.8.10 64-bit",
   "language": "python",
   "name": "python3"
  },
  "language_info": {
   "codemirror_mode": {
    "name": "ipython",
    "version": 3
   },
   "file_extension": ".py",
   "mimetype": "text/x-python",
   "name": "python",
   "nbconvert_exporter": "python",
   "pygments_lexer": "ipython3",
   "version": "3.7.7"
  },
  "orig_nbformat": 4
 },
 "nbformat": 4,
 "nbformat_minor": 2
}
