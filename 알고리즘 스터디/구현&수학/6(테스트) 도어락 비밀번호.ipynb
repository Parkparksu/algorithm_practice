{
 "cells": [
  {
   "cell_type": "markdown",
   "metadata": {},
   "source": [
    "# 2022년 3월 23일 수요일\n",
    "#### 환경 - python 3.8"
   ]
  },
  {
   "cell_type": "markdown",
   "metadata": {},
   "source": [
    "#### 도어락 비밀번호        \n",
    "엘리스와 체셔 고양이는 편리함과 열쇠 분실을 우려해 도어락을 구매했습니다. 엘리스가 도어락을 설치했지만 엘리스는 도어락 비밀번호를 어떻게 하면 유추할 수 없을까 고민을 했습니다.\n",
    "\n",
    "이에 체셔 고양이는 다음과 같은 비밀번호 생성 규칙을 제안했습니다. 서로 태어난 연도의 모든 자릿수를 역순으로 바꾸어 수를 얻은 뒤 그 두 수의 합을 비밀번호로 하자고 했습니다. 엘리스는 이 제안에 만족했고 비밀번호를 구하려고 합니다.\n",
    "\n",
    "두 개의 태어난 연도가 주어졌을 때, 비밀번호를 출력하는 프로그램을 작성하세요.\n",
    "\n",
    "\n",
    "[입력]      \n",
    "첫 번째 줄에 체셔 고양이와 엘리스가 태어난 년도인 자연수 N1,N2 를 입력합니다.\n",
    "(1900≤N1,N2≤2020)\n",
    "\n",
    "[출력]      \n",
    "첫 번째 줄에 생성한 비밀번호를 출력합니다.\n",
    "\n",
    "[입력 예시]     \n",
    "1995 2000       \n",
    "\n",
    "[출력 예시]         \n",
    "5993            "
   ]
  },
  {
   "cell_type": "markdown",
   "metadata": {},
   "source": [
    "## 첨언\n",
    "\n",
    "도어락 비밀번호\n",
    "아래 코드는 도어락 비밀번호 문제를 풀기 위해 작성한 파이썬 코드입니다.\n",
    "\n",
    "a, b = map(int, input().split())\n",
    "\n",
    "print(str(a+b)[::-1])       \n",
    "1. 코드의 첫 번째 줄 a, b = map(int, input().split()) 이 어떤 역할을 하는지 팀원들과 이야기를 나누어 보세요.       \n",
    "\n",
    "    * input(), input().split(), map(int, input().split()) 세 단계를 거쳐 a와 b에 저장됩니다.\n",
    "     <br/>\n",
    "<br/>\n",
    "2. 코드의 세 번째 줄에서 str(a+b)[::-1] 이 어떤 역할을 하는지 팀원들과 이야기를 나누어 보세요.\n",
    "\n",
    "    * a+b, str(a+b), str(a+b)[::-1] 세 단계를 거친 뒤 출력됩니다.       \n",
    "<br/>\n",
    "3. 위 코드에 어떤 반례가 있을지 팀원들과 이야기를 나누어 보세요.\n",
    "\n",
    "\n",
    "4. 도어락 비밀번호를 올바르게 출력하는 코드를 만들어보세요."
   ]
  },
  {
   "cell_type": "markdown",
   "metadata": {},
   "source": [
    "### 내 접근\n",
    "떡 먹은 떡만이\n",
    "세 쌍둥이 중 떡을 먹은 사람은 떡만이 1 한 명이고, 나머지 두 명은 떡을 먹지 않았다.\n",
    "\n",
    "따라서, 떡만이 1의 위치 이동만 생각하면 된다.\n",
    "\n",
    "\n",
    "#### 풀이 과정\n",
    "m 번의 입력의 걸쳐 정수가 두 개씩 입력된다.\n",
    "\n",
    "두 정수 중, 떡만이 1의 현재 위치를 나타내는 수와 같은 수가 있는 경우에만 떡만이 1의 위치가 변하는 것이다.\n",
    "\n",
    "따라서 두 정수 중 떡만이 1의 위치를 변경시키지 않는 움직임은 무시해도 된다.\n",
    "\n",
    "두 정수 중, 떡만이 1의 위치와 일치하는 수가 있다면 떡만이 1의 위치는 다른 한 수가 된다.\n",
    "\n",
    "예를 들어 떡만이 1이 현재 위치 1에 있고, 두 수 1, 3이 입력되면 떡만이 1의 위치는 3이 되는 것이다.\n"
   ]
  },
  {
   "cell_type": "markdown",
   "metadata": {},
   "source": [
    "## 정답 코드"
   ]
  },
  {
   "cell_type": "code",
   "execution_count": 2,
   "metadata": {},
   "outputs": [
    {
     "name": "stdout",
     "output_type": "stream",
     "text": [
      "3\n"
     ]
    }
   ],
   "source": [
    "dduckman = 1\n",
    "\n",
    "m = int(input())\n",
    "\n",
    "for i in range(m) :\n",
    "    a, b = [int(v) for v in input().split()]\n",
    "    if a == dduckman :\n",
    "        podduckmans = b\n",
    "    elif b == dduckman :\n",
    "        dduckman = a\n",
    "\n",
    "print(dduckman)"
   ]
  }
 ],
 "metadata": {
  "interpreter": {
   "hash": "775a7b753f8b6521defcee497e79393719043468050c1fd454679f627dd5b77a"
  },
  "kernelspec": {
   "display_name": "Python 3.7.7 64-bit",
   "language": "python",
   "name": "python3"
  },
  "language_info": {
   "codemirror_mode": {
    "name": "ipython",
    "version": 3
   },
   "file_extension": ".py",
   "mimetype": "text/x-python",
   "name": "python",
   "nbconvert_exporter": "python",
   "pygments_lexer": "ipython3",
   "version": "3.7.7"
  },
  "orig_nbformat": 4
 },
 "nbformat": 4,
 "nbformat_minor": 2
}
