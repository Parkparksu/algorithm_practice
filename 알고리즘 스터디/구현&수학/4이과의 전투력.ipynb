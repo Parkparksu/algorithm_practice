{
 "cells": [
  {
   "cell_type": "markdown",
   "metadata": {},
   "source": [
    "# 2022년 3월 23일 수요일\n",
    "#### 환경 - python 3.8"
   ]
  },
  {
   "cell_type": "markdown",
   "metadata": {},
   "source": [
    "#### 이과의 전투력   \n",
    "파스칼 고등학교에서는 학생들의 수학 점수와 과학 점수로 강함을 측정하고, 강함에 따라 학생들의 등수를 매긴다고 합니다.\n",
    "\n",
    "두 학생 A와 B의 (수학, 과학) 점수가 각각 (x, y), (i, j)라고 할 때, x>ix>ix>i 이고 y>jy>jy>j이면\n",
    "A는 B보다 강하다고 말합니다.\n",
    "\n",
    "그런데 만약 A가 B보다 수학을 잘하는데 과학은 B가 더 잘한다면 둘 중에 누가 더 강한지 우열을 가릴 수가 없습니다. 이러면 두 사람이 같은 등수를 갖게 됩니다.\n",
    "\n",
    "쉽게 설명하면 파스칼 고등학교에서의 학생들의 등수는 자신보다 강한 사람의 수로 정해집니다.\n",
    "자신보다 강한 사람의 수가 k명이라면 자신의 등수는 k+1등이 되는 것입니다.\n",
    "\n",
    "학생 N명의 수학, 과학 점수를 입력받아서 각 학생의 등수를 계산하는 프로그램을 작성하세요.\n",
    "\n",
    "\n",
    "[입력]      \n",
    "첫 줄에는 전체 학생의 수 N을 입력합니다.\n",
    "두 번째 줄부터 N개의 줄에 걸쳐 각 학생의 수학 점수와 과학 점수를 나타내는 양의 정수 x와 y를 하나의 공백을 두고 각각 입력합니다.     \n",
    "(2≤N≤50, 1≤x,y≤100)\n",
    "\n",
    "[출력]      \n",
    "입력에 나열된 학생의 등수를 구해서 그 순서대로 첫 줄에 출력합니다. 단, 각 등수는 공백문자로 분리되어야 합니다.\n",
    "\n",
    "[입력 예시]  \n",
    "5  \n",
    "55 85   \n",
    "58 83   \n",
    "88 86   \n",
    "60 75   \n",
    "46 55   \n",
    "\n",
    "[출력 예시]         \n",
    "2 2 1 2 5   "
   ]
  },
  {
   "cell_type": "markdown",
   "metadata": {},
   "source": [
    "### 내 접근\n",
    "n개의 수 중에서, 어떤 수와 다른 나머지 수들을 비교하였을 때 그 수보다 큰 수가 몇 개인지 비교할 수 있다.\n",
    "\n",
    "이 문제는 하나의 수가 아니라, 두 개의 수(수학 점수와 과학 점수)를 각각 비교해야 한다는 점의 차이만 있을 뿐 문제를 해결하는 아이디어는 동일하다.\n",
    "\n",
    "\n",
    "\n",
    "#### 풀이 과정\n",
    "1부터 n까지, 순서를 고려하지 않고 서로 다른 두 수의 쌍 (i, j) 을 지을 수 있다.      \n",
    "그 쌍에 해당하는 두 학생, 즉 i번째 학생과 j번째 학생의 점수 비교를 가능한 모든 경우의 수에 대해 수행할 수 있다.\n",
    "\n",
    "위 과정을 통해, 모든 학생들은 자신보다 두 과목의 점수가 더 높은 학생이 몇 명 존재하는지 확인이 가능하다."
   ]
  },
  {
   "cell_type": "markdown",
   "metadata": {},
   "source": [
    "## 정답 코드"
   ]
  },
  {
   "cell_type": "code",
   "execution_count": 2,
   "metadata": {},
   "outputs": [
    {
     "name": "stdout",
     "output_type": "stream",
     "text": [
      "[2, 2, 1, 2, 5]\n"
     ]
    }
   ],
   "source": [
    "n = int(input())\n",
    "result = [1] * n\n",
    "\n",
    "data = []\n",
    "\n",
    "for i in range(n) :\n",
    "    math, science = [int(v) for v in input().split()]\n",
    "    data.append((math, science))\n",
    "\n",
    "for i in range(n-1) :\n",
    "    for j in range(i+1, n) :\n",
    "        if data[i][0] > data[j][0] and data[i][1] > data[j][1] :\n",
    "            result[j] += 1\n",
    "        elif data[i][0] < data[j][0] and data[i][1] < data[j][1] :\n",
    "            result[i] += 1\n",
    "\n",
    "print(result)"
   ]
  }
 ],
 "metadata": {
  "interpreter": {
   "hash": "775a7b753f8b6521defcee497e79393719043468050c1fd454679f627dd5b77a"
  },
  "kernelspec": {
   "display_name": "Python 3.7.7 64-bit",
   "language": "python",
   "name": "python3"
  },
  "language_info": {
   "codemirror_mode": {
    "name": "ipython",
    "version": 3
   },
   "file_extension": ".py",
   "mimetype": "text/x-python",
   "name": "python",
   "nbconvert_exporter": "python",
   "pygments_lexer": "ipython3",
   "version": "3.7.7"
  },
  "orig_nbformat": 4
 },
 "nbformat": 4,
 "nbformat_minor": 2
}
