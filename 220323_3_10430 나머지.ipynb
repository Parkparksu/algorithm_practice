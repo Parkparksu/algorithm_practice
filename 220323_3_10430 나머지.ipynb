{
 "cells": [
  {
   "cell_type": "markdown",
   "metadata": {},
   "source": [
    "# 2022년 3월 23일 수요일\n",
    "\n",
    "#### 문제 - 백준 알고리즘 10430 나머지\n",
    "#### 환경 - python\n",
    "(https://www.acmicpc.net/problem/10430)"
   ]
  },
  {
   "cell_type": "markdown",
   "metadata": {},
   "source": [
    "##### 제출코드"
   ]
  },
  {
   "cell_type": "code",
   "execution_count": null,
   "metadata": {},
   "outputs": [],
   "source": [
    "A, B, C = input().split()\n",
    "A = int(A)\n",
    "B = int(B)\n",
    "C = int(C)\n",
    "\n",
    "\n",
    "print((A+B)%C)\n",
    "print(((A%C) + (B%C))%C)\n",
    "print((A*B)%C)\n",
    "print(((A%C) * (B%C))%C)"
   ]
  },
  {
   "cell_type": "markdown",
   "metadata": {},
   "source": [
    "#### 그냥 쭉 풀다가 map() 함수의 기능을 정리하려고 쓰는 글\n",
    "\n",
    " \n",
    "\n",
    "앞선 1000번 글대로 input으로 받아 split 으로 나눠주어 식만 붙여넣으면 되는 쉬운 문제이다.\n",
    "\n",
    "첫 제출때는 A,B,C 차례대로 변수를 지정했지만 3개가아니라 아주 많거나, 변화하는 상태라면? 어떻게 할 것인가.\n",
    "\n",
    "그때 사용하는것이 map() 함수\n"
   ]
  },
  {
   "cell_type": "code",
   "execution_count": null,
   "metadata": {},
   "outputs": [],
   "source": [
    "a, b = map(int, input('숫자 두 개를 입력하세요: ').split())"
   ]
  },
  {
   "cell_type": "markdown",
   "metadata": {},
   "source": [
    "(class) map\n",
    "\n",
    "map(func, *iterables) --> map object\n",
    "Make an iterator that computes the function using arguments from each of the iterables. Stops when the shortest iterable is exhausted."
   ]
  },
  {
   "cell_type": "markdown",
   "metadata": {},
   "source": [
    "vscode 상 설명은 이렇다.\n",
    "\n",
    "map 함수는 built-in 함수로써\n",
    "\n",
    "'각 반복 가능한 인수를 사용하여 함수를 계산하는 반복기를 만듭니다. 가장 짧은 반복 가능이 소진되면 중지합니다.'"
   ]
  },
  {
   "cell_type": "markdown",
   "metadata": {},
   "source": [
    "쉽게 말해\n",
    "\n",
    " 첫번째 인자로 '함수'가 필요하고, 두번째 인자로 '반복 가능한 객체' 가 필요하다.\n",
    "\n",
    " 결과는 map object 로 출력시 list()로 표현하는게 편하다."
   ]
  },
  {
   "cell_type": "code",
   "execution_count": 1,
   "metadata": {},
   "outputs": [
    {
     "name": "stdout",
     "output_type": "stream",
     "text": [
      "[1, 4, 9, 16, 25]\n"
     ]
    }
   ],
   "source": [
    "def square(x):\n",
    "    return x ** 2\n",
    "\n",
    "y = list(map(square, [1,2,3,4,5]))\n",
    "print(y) #[1, 4, 9, 16, 25]"
   ]
  },
  {
   "cell_type": "code",
   "execution_count": 2,
   "metadata": {},
   "outputs": [
    {
     "name": "stdout",
     "output_type": "stream",
     "text": [
      "[1, 4, 9, 16, 25]\n"
     ]
    }
   ],
   "source": [
    "a = [1,2,3,4,5]\n",
    "\n",
    "b = list(map(lambda x:x**2, a))\n",
    "print(b) #[1, 4, 9, 16, 25]"
   ]
  },
  {
   "cell_type": "code",
   "execution_count": 3,
   "metadata": {},
   "outputs": [
    {
     "name": "stdout",
     "output_type": "stream",
     "text": [
      "[1, 4, 9, 16, 25]\n",
      "[25, 100, 225, 400, 625]\n"
     ]
    }
   ],
   "source": [
    "def square(x):\n",
    "    return x ** 2\n",
    "\n",
    "a = {1:5,2:10,3:15,4:20,5:25}\n",
    "\n",
    "b = list(map(square, a))\n",
    "print(b) #[1, 4, 9, 16, 25]\n",
    "\n",
    "c= list(map(square,[a[i] for i in a]))\n",
    "print(c) #[25, 100, 225, 400, 625]"
   ]
  },
  {
   "cell_type": "markdown",
   "metadata": {},
   "source": [
    "#### 그래서?"
   ]
  },
  {
   "cell_type": "code",
   "execution_count": null,
   "metadata": {},
   "outputs": [],
   "source": [
    "A, B, C = input().split()\n",
    "A = int(A)\n",
    "B = int(B)\n",
    "C = int(C)"
   ]
  },
  {
   "cell_type": "markdown",
   "metadata": {},
   "source": [
    "이 코드를"
   ]
  },
  {
   "cell_type": "code",
   "execution_count": null,
   "metadata": {},
   "outputs": [],
   "source": [
    "A, B, C = map(int, input().split())"
   ]
  },
  {
   "cell_type": "markdown",
   "metadata": {},
   "source": [
    "이렇게 표현 가능"
   ]
  }
 ],
 "metadata": {
  "interpreter": {
   "hash": "d373a6adc26a229c2c7b2016ce264c6636cd7db4cb097b04765bf225c02b830d"
  },
  "kernelspec": {
   "display_name": "Python 3.8.10 64-bit",
   "language": "python",
   "name": "python3"
  },
  "language_info": {
   "codemirror_mode": {
    "name": "ipython",
    "version": 3
   },
   "file_extension": ".py",
   "mimetype": "text/x-python",
   "name": "python",
   "nbconvert_exporter": "python",
   "pygments_lexer": "ipython3",
   "version": "3.7.7"
  },
  "orig_nbformat": 4
 },
 "nbformat": 4,
 "nbformat_minor": 2
}
