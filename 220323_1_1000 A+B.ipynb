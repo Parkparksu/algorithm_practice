{
 "cells": [
  {
   "cell_type": "markdown",
   "metadata": {},
   "source": [
    "# 2022년 3월 23일 수요일\n",
    "#### 환경 - python\n",
    "#### 문제 - 백준 1000번 A+B\n",
    "https://www.acmicpc.net/problem/1000\n"
   ]
  },
  {
   "cell_type": "code",
   "execution_count": null,
   "metadata": {},
   "outputs": [],
   "source": [
    "A,B = input().split()\n",
    "print(int(A)+int(B))"
   ]
  },
  {
   "cell_type": "markdown",
   "metadata": {},
   "source": [
    "1. 처음에 상수로 지정하여 푸는 경우와 달라 어색 할 수 있다. (input)\n",
    "\n",
    "2. 입력 형식이 \"1 2\" 라 split함수를 써야한다는 점 (split)\n",
    "\n",
    "3. 합을 구할때 타입형이 int여야 하는 점 (int)\n",
    "\n",
    " \n",
    "\n",
    "사칙연산 +@\n",
    "\n",
    "'+ - * /' 는 그대로\n",
    "\n",
    "몫과 나머지 // % 이다.\n",
    "\n",
    "(나머지가 짝수, 홀수 판별할때 많이 사용된다.\n",
    "\n",
    " 예로 if a % 2 == 1 :  ~~ 이런식으로 )\n",
    "\n",
    " \n",
    "\n",
    " \n",
    "\n",
    "# A, B = input().split() \n",
    "\n",
    "튜플(tuple)자료형을 split(), 즉 공백으로 분리 하겠다는 것.  \n",
    "\n",
    " \n",
    "\n",
    "  참고문제 (1152, split()과 split(\"\")의 차이\n",
    "\n",
    "  split()은 공백의 개수에 관련없이 1개로 보고 나눈다.\n",
    "\n",
    "  split(\" \")은 공백마다 각각의 공백으로 따로 나눈다.\n",
    "\n",
    "### split()은 공백만 처리하는 것이 아니라 \"\\t\" (탭), \"\\n\" (엔터) 도 처리해준다."
   ]
  }
 ],
 "metadata": {
  "interpreter": {
   "hash": "d373a6adc26a229c2c7b2016ce264c6636cd7db4cb097b04765bf225c02b830d"
  },
  "kernelspec": {
   "display_name": "Python 3.8.10 64-bit",
   "language": "python",
   "name": "python3"
  },
  "language_info": {
   "codemirror_mode": {
    "name": "ipython",
    "version": 3
   },
   "file_extension": ".py",
   "mimetype": "text/x-python",
   "name": "python",
   "nbconvert_exporter": "python",
   "pygments_lexer": "ipython3",
   "version": "3.7.7"
  },
  "orig_nbformat": 4
 },
 "nbformat": 4,
 "nbformat_minor": 2
}
