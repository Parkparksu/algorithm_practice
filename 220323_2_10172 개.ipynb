{
 "cells": [
  {
   "cell_type": "markdown",
   "metadata": {},
   "source": [
    "# 2022년 3월 23일 수요일\n",
    "\n",
    "#### 문제 - 백준 알고리즘 10172번 개\n",
    "#### 환경 - python\n",
    "(https://www.acmicpc.net/problem/10172)"
   ]
  },
  {
   "cell_type": "markdown",
   "metadata": {},
   "source": [
    "##### 오류 1"
   ]
  },
  {
   "cell_type": "code",
   "execution_count": 1,
   "metadata": {},
   "outputs": [
    {
     "name": "stdout",
     "output_type": "stream",
     "text": [
      "|\\_/|\n",
      "|q p|   /}\n",
      "( 0 )\"\"\"\\\n",
      "|\"^\"`    |\n",
      "||_/=\\\\__|\n"
     ]
    }
   ],
   "source": [
    "print(\"|\\_/|\")\n",
    "print(\"|q p|   /}\")\n",
    "print('( 0 )\"\"\"\\\\')\n",
    "print('|\"^\"`    |')\n",
    "print(\"||_/=\\\\\\__|\")"
   ]
  },
  {
   "cell_type": "markdown",
   "metadata": {},
   "source": [
    "### 출제의도?\n",
    " 파이썬에서 백슬래시의 사용을 묻는것\n",
    "\n",
    " 파이썬에서 백슬래시와 조합되는 문자에 따라 이스케이프 문자로 인식하게 떄문.\n"
   ]
  },
  {
   "cell_type": "markdown",
   "metadata": {},
   "source": [
    "#### 이스케이프 시퀀스?\n",
    "\n",
    " \n",
    "\n",
    "이스케이프 시퀀스(escape sequence) 또는 확장열은 컴퓨터와 주변 기기의 상태를 바꾸는 데에 쓰이는 일련의 문자열이다. 제어 시퀀스(control sequence)라고도 한다. 일부 제어 시퀀스는 늘 같은 의미를 지니고 있는 특수 문자이다. 이스케이프 시퀀스는 이스케이프 문자를 이용하여 이를 따르는 문자들의 뜻을 바꿀 수 있는데, 여기서 문자들은 데이터가 아닌 실행 명령어로 해석할 수 있다.\n",
    "\n",
    " \n",
    "\n",
    " \n",
    "\n",
    "#### 이스케이프 문자?\n",
    "\n",
    " \n",
    "\n",
    "이스케이프 문자는 이스케이프 시퀀스를 따르는 문자들로서 다음 문자가 특수 문자임을 알리는 백슬래시(\\)를 사용한다.\n",
    "\n",
    "일부 제어 시퀀스인 이스케이프 문자들은 미리 예약되어있다.\n",
    "\n",
    " \n",
    "\n",
    " ＼n (줄 바꿈),＼t (탭),＼b (백스페이스),＼＼ (백 슬래시),＼' (작은따옴표),＼\" (큰따옴표)"
   ]
  },
  {
   "cell_type": "markdown",
   "metadata": {},
   "source": [
    "#### 정리\n",
    "\n",
    "print('( 0 )\"\"\"\\\\') 에서 \\' 앞에 \\를 붙여주어야한다.\n",
    " \n",
    " \n",
    "백 슬래시와 따옴표를 붙여 사용하면 문자열 기호로 인식하지 못한다. 이스케이프로 인식하기 떄문에 이를 방지 하기위해 \\\\' 처럼 한번 더 붙여준다.\n",
    "print(\"||_/=\\\\\\__|\")  # \\\\ 앞에 \\을 하나 더 붙여준다.\n",
    " \n",
    "이역시 \\\\ 두개가있으면 하나의 \\만 출력되기 때문에 앞에 \\ 하나 더 붙여주어 2개가 출력되도록 한다."
   ]
  }
 ],
 "metadata": {
  "interpreter": {
   "hash": "d373a6adc26a229c2c7b2016ce264c6636cd7db4cb097b04765bf225c02b830d"
  },
  "kernelspec": {
   "display_name": "Python 3.8.10 64-bit",
   "language": "python",
   "name": "python3"
  },
  "language_info": {
   "codemirror_mode": {
    "name": "ipython",
    "version": 3
   },
   "file_extension": ".py",
   "mimetype": "text/x-python",
   "name": "python",
   "nbconvert_exporter": "python",
   "pygments_lexer": "ipython3",
   "version": "3.7.7"
  },
  "orig_nbformat": 4
 },
 "nbformat": 4,
 "nbformat_minor": 2
}
